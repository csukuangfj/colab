{
  "nbformat": 4,
  "nbformat_minor": 0,
  "metadata": {
    "colab": {
      "provenance": [],
      "authorship_tag": "ABX9TyOrbS3c+Sli4xcLxhvMsMcs",
      "include_colab_link": true
    },
    "kernelspec": {
      "name": "python3",
      "display_name": "Python 3"
    },
    "language_info": {
      "name": "python"
    }
  },
  "cells": [
    {
      "cell_type": "markdown",
      "metadata": {
        "id": "view-in-github",
        "colab_type": "text"
      },
      "source": [
        "<a href=\"https://colab.research.google.com/github/k2-fsa/colab/blob/master/fbank_demo.ipynb\" target=\"_parent\"><img src=\"https://colab.research.google.com/assets/colab-badge.svg\" alt=\"Open In Colab\"/></a>"
      ]
    },
    {
      "cell_type": "markdown",
      "source": [
        "# 介绍\n",
        "本notebook 演示如何计算语音识别中的 fbank 特征。\n"
      ],
      "metadata": {
        "id": "OnUbuIY8NkUU"
      }
    },
    {
      "cell_type": "markdown",
      "source": [
        "# 生产一段随机的数据\n",
        "\n",
        "- 假设采样率为 16000\n",
        "- 生成 1 秒的随机数\n"
      ],
      "metadata": {
        "id": "RyyPnZ6HNr4Y"
      }
    },
    {
      "cell_type": "code",
      "execution_count": 1,
      "metadata": {
        "colab": {
          "base_uri": "https://localhost:8080/"
        },
        "id": "o457e2jyNY6D",
        "outputId": "af2c1294-4878-4029-ba13-71bf9d55786e"
      },
      "outputs": [
        {
          "output_type": "stream",
          "name": "stdout",
          "text": [
            "(16000,)\n"
          ]
        }
      ],
      "source": [
        "import numpy as np\n",
        "np.random.seed(202250927)\n",
        "\n",
        "sample_rate = 16000\n",
        "num_seconds = 1\n",
        "samples = np.random.uniform(low=-1, high=1, size=(sample_rate * num_seconds,))\n",
        "print(samples.shape)"
      ]
    },
    {
      "cell_type": "markdown",
      "source": [
        "# 计算前3帧特征\n",
        "\n",
        "为了方便起见，我们只计算前3帧特征"
      ],
      "metadata": {
        "id": "PBz-2gjhOS6p"
      }
    },
    {
      "cell_type": "code",
      "source": [
        "frame_length_ms = 25\n",
        "frame_shift_ms = 10\n",
        "\n",
        "frame_length = int(frame_length_ms * sample_rate / 1000)\n",
        "frame_shift = int(frame_shift_ms * sample_rate / 1000)\n",
        "\n",
        "frame_samples_0 = samples[:frame_length]\n",
        "frame_samples_1 = samples[1*frame_shift:(1*frame_shift + frame_length)]\n",
        "frame_samples_2 = samples[2*frame_shift:(2*frame_shift + frame_length)]\n",
        "\n",
        "\n",
        "print(frame_samples_0.shape, frame_samples_1.shape, frame_samples_2.shape)"
      ],
      "metadata": {
        "colab": {
          "base_uri": "https://localhost:8080/"
        },
        "id": "qISa4FYtOFAS",
        "outputId": "e9fe8ced-926a-4707-8ed1-abf643885ed3"
      },
      "execution_count": 2,
      "outputs": [
        {
          "output_type": "stream",
          "name": "stdout",
          "text": [
            "(400,) (400,) (400,)\n"
          ]
        }
      ]
    },
    {
      "cell_type": "markdown",
      "source": [
        "## 去掉直流偏移"
      ],
      "metadata": {
        "id": "bZBWhcemPvT6"
      }
    },
    {
      "cell_type": "code",
      "source": [
        "def remove_dc_offset(samples):\n",
        "  mean = np.mean(samples)\n",
        "  return samples - mean"
      ],
      "metadata": {
        "id": "8mhA8LEBO1SS"
      },
      "execution_count": 3,
      "outputs": []
    },
    {
      "cell_type": "markdown",
      "source": [
        "## 预加重"
      ],
      "metadata": {
        "id": "RePSfI9pQgUs"
      }
    },
    {
      "cell_type": "code",
      "source": [
        "def preemphasize(samples, coeff=0.97):\n",
        "  ans = np.empty_like(samples)\n",
        "\n",
        "  ans[0] = samples[0] - coeff * samples[0]\n",
        "  ans[1:] = samples[1:] - coeff * samples[:-1]\n",
        "\n",
        "  return ans\n"
      ],
      "metadata": {
        "id": "Y0HijmKfQwH3"
      },
      "execution_count": 4,
      "outputs": []
    },
    {
      "cell_type": "markdown",
      "source": [],
      "metadata": {
        "id": "6bIGcj8BQHkT"
      }
    },
    {
      "cell_type": "markdown",
      "source": [
        "## 加窗"
      ],
      "metadata": {
        "id": "ZNEtzkTIRDjI"
      }
    },
    {
      "cell_type": "code",
      "source": [
        "def get_hann_window(n: int):\n",
        "  # 请看 https://docs.pytorch.org/docs/stable/generated/torch.hann_window.html\n",
        "  k = np.arange(n)\n",
        "  return 0.5 * (1 - np.cos(2 * np.pi * k / (n - 1)))\n",
        "\n",
        "def apply_window(samples, window):\n",
        "  return samples * window"
      ],
      "metadata": {
        "id": "kNWPfeM4PzdF"
      },
      "execution_count": 5,
      "outputs": []
    },
    {
      "cell_type": "markdown",
      "source": [
        "## 计算 FFT"
      ],
      "metadata": {
        "id": "anoEq46PWncz"
      }
    },
    {
      "cell_type": "code",
      "source": [
        "def compute_fft(samples, nfft=512):\n",
        "    return np.fft.rfft(samples, nfft)"
      ],
      "metadata": {
        "id": "1SDSRV35RTwc"
      },
      "execution_count": 6,
      "outputs": []
    },
    {
      "cell_type": "markdown",
      "source": [
        "## 计算 功率谱"
      ],
      "metadata": {
        "id": "cIsOU8YuWxLN"
      }
    },
    {
      "cell_type": "code",
      "source": [
        "def compute_power_spectrum(fft_bins):\n",
        "  return np.abs(fft_bins) ** 2"
      ],
      "metadata": {
        "id": "YzkkjasbYJ39"
      },
      "execution_count": 7,
      "outputs": []
    },
    {
      "cell_type": "markdown",
      "source": [
        "## 乘以 Mel filter bank 矩阵"
      ],
      "metadata": {
        "id": "mb4j8IOzYPSo"
      }
    },
    {
      "cell_type": "code",
      "source": [
        "%%shell\n",
        "\n",
        "pip install kaldi-native-fbank"
      ],
      "metadata": {
        "colab": {
          "base_uri": "https://localhost:8080/"
        },
        "id": "n7X7z8SSiIL2",
        "outputId": "6b6e3dff-bfc2-419e-daa5-9484d42de311"
      },
      "execution_count": 8,
      "outputs": [
        {
          "output_type": "stream",
          "name": "stdout",
          "text": [
            "Collecting kaldi-native-fbank\n",
            "  Downloading kaldi_native_fbank-1.22.2-cp312-cp312-manylinux2014_x86_64.manylinux_2_17_x86_64.whl.metadata (3.3 kB)\n",
            "Downloading kaldi_native_fbank-1.22.2-cp312-cp312-manylinux2014_x86_64.manylinux_2_17_x86_64.whl (322 kB)\n",
            "\u001b[2K   \u001b[90m━━━━━━━━━━━━━━━━━━━━━━━━━━━━━━━━━━━━━━━━\u001b[0m \u001b[32m322.0/322.0 kB\u001b[0m \u001b[31m5.2 MB/s\u001b[0m eta \u001b[36m0:00:00\u001b[0m\n",
            "\u001b[?25hInstalling collected packages: kaldi-native-fbank\n",
            "Successfully installed kaldi-native-fbank-1.22.2\n"
          ]
        },
        {
          "output_type": "execute_result",
          "data": {
            "text/plain": []
          },
          "metadata": {},
          "execution_count": 8
        }
      ]
    },
    {
      "cell_type": "code",
      "source": [
        "import kaldi_native_fbank as knf\n",
        "\n",
        "def get_mel_filter_bank_matrix():\n",
        "    mel_opts = knf.MelBanksOptions()\n",
        "    mel_opts.num_bins = 23\n",
        "\n",
        "    frame_opts = knf.FrameExtractionOptions()\n",
        "    mel_bank = knf.MelBanks(opts=mel_opts, frame_opts=frame_opts)\n",
        "    return mel_bank.get_matrix()\n",
        "\n",
        "matrix = get_mel_filter_bank_matrix()\n",
        "print(matrix.shape)"
      ],
      "metadata": {
        "id": "zES1OqxjYXjC",
        "colab": {
          "base_uri": "https://localhost:8080/"
        },
        "outputId": "c70d70da-5679-4dc0-8ba9-7fb519dea71b"
      },
      "execution_count": 9,
      "outputs": [
        {
          "output_type": "stream",
          "name": "stdout",
          "text": [
            "(23, 257)\n"
          ]
        }
      ]
    },
    {
      "cell_type": "code",
      "source": [
        "def compute_fbank(samples):\n",
        "    samples = remove_dc_offset(samples)\n",
        "    samples = preemphasize(samples)\n",
        "\n",
        "    window = get_hann_window(samples.shape[0])\n",
        "    samples = samples * window\n",
        "\n",
        "    fft_bins = compute_fft(samples)\n",
        "    power_spec = compute_power_spectrum(fft_bins)\n",
        "\n",
        "    matrix = get_mel_filter_bank_matrix()\n",
        "\n",
        "    f = np.matmul(matrix, power_spec.reshape(-1, 1)).squeeze(1)\n",
        "\n",
        "    f = np.where(f == 0, np.finfo(float).eps, f)  # 避免np.log(0)\n",
        "\n",
        "    return np.log(f)"
      ],
      "metadata": {
        "id": "xA1NfJWhXhzx"
      },
      "execution_count": 10,
      "outputs": []
    },
    {
      "cell_type": "code",
      "source": [
        "feature_frame_0 = compute_fbank(frame_samples_0)\n",
        "feature_frame_1 = compute_fbank(frame_samples_1)\n",
        "print(feature_frame_0.shape)\n",
        "print(feature_frame_1.shape)"
      ],
      "metadata": {
        "colab": {
          "base_uri": "https://localhost:8080/"
        },
        "id": "trIOCtpgkCIS",
        "outputId": "f60d570e-0147-4b03-c9ee-b645ed4b1f86"
      },
      "execution_count": 11,
      "outputs": [
        {
          "output_type": "stream",
          "name": "stdout",
          "text": [
            "(23,)\n",
            "(23,)\n"
          ]
        }
      ]
    },
    {
      "cell_type": "code",
      "source": [
        "opts = knf.FbankOptions()\n",
        "opts.frame_opts.window_type = \"hann\"\n",
        "opts.frame_opts.dither = 0\n",
        "opts.mel_opts.num_bins = 23\n",
        "extractor = knf.OnlineFbank(opts)\n",
        "extractor.accept_waveform(sample_rate, samples.tolist())\n",
        "extractor.input_finished()\n",
        "\n",
        "# (16000 - 400)//160 + 1\n",
        "print(\"num_frames_ready\", extractor.num_frames_ready)\n",
        "\n",
        "f0 = extractor.get_frame(0)\n",
        "f1 = extractor.get_frame(1)"
      ],
      "metadata": {
        "colab": {
          "base_uri": "https://localhost:8080/"
        },
        "id": "YXr3o6eJkGgC",
        "outputId": "02b321be-67b2-4a1b-ab3e-3c346c9f57b6"
      },
      "execution_count": 14,
      "outputs": [
        {
          "output_type": "stream",
          "name": "stdout",
          "text": [
            "num_frames_ready 98\n"
          ]
        }
      ]
    },
    {
      "cell_type": "code",
      "source": [
        "print(np.abs(np.array(feature_frame_0) - np.array(f0)).max())\n",
        "print(np.abs(np.array(feature_frame_1) - np.array(f1)).max())"
      ],
      "metadata": {
        "colab": {
          "base_uri": "https://localhost:8080/"
        },
        "id": "qu8xV63_lEHb",
        "outputId": "7c8e7c89-df6e-401d-c952-7c3944b37bb1"
      },
      "execution_count": 15,
      "outputs": [
        {
          "output_type": "stream",
          "name": "stdout",
          "text": [
            "0.016033564976312586\n",
            "0.004422315742522276\n"
          ]
        }
      ]
    },
    {
      "cell_type": "code",
      "source": [],
      "metadata": {
        "id": "2IrR_9aslHul"
      },
      "execution_count": null,
      "outputs": []
    }
  ]
}
